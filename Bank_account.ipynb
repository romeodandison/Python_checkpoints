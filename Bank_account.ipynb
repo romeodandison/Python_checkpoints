{
 "cells": [
  {
   "cell_type": "markdown",
   "id": "e54da19f-66b6-4219-83b1-1cb82a943706",
   "metadata": {},
   "source": [
    "This programme creates a bank account using class functions\n",
    "\n",
    "Create a class called \"Account\" that has the following attributes:\r\n",
    "\r\n",
    "account_number (string)\r\n",
    "account_balance (float)\r\n",
    "account_holder (string)\r\n",
    "The class should have the following methods:\r\n",
    "\r\n",
    "deposit(amount: float) - This method should add the amount passed as an argument to the account balance.\r\n",
    "withdraw(amount: float) - This method should subtract the amount passed as an argument from the account balance, but only if the account balance is greater than the amount being withdrawn.\r\n",
    "check_balance() - This method should return the current account balance.\n",
    "Instructions\n",
    "\n",
    "Create a new file called \"bank_account.py\"\n",
    "Define the Account class and its attributes as specified above.\n",
    "Define the deposit() method. It should take in one argument, the amount to be deposited, and add it to the account balance.\n",
    "Define the withdraw() method. It should take in one argument, the amount to be withdrawn, and subtract it from the account balance. The method should only execute the withdrawal if the account balance is greater than or equal to the amount to be withdrawn.\n",
    "Define the check_balance() method. It should return the current account balance.\n",
    "Create an instance of the Account class, and assign it to a variable called \"my_account\".\n",
    "Use the methods of the class to deposit and withdraw money from the account, and check the account balance.\n",
    "Test the program by creating multiple instances of the class and performing different transactions on them."
   ]
  },
  {
   "cell_type": "code",
   "execution_count": 77,
   "id": "4709bcff-f47a-4556-9b62-b066bf1c4f88",
   "metadata": {},
   "outputs": [],
   "source": [
    "#Account; class and it's attributes\n",
    "class Account:\n",
    "    def __init__(self, account_number: str, account_balance: float, account_holder: str):\n",
    "        self.a = account_number\n",
    "        self.b = account_balance\n",
    "        self.c = account_holder\n",
    "\n",
    "#Defining the deposit method\n",
    "    def deposit(self, amount: float):\n",
    "        self.b += amount\n",
    "        print(f\" Deposited ${amount: .2f}. New balance is $ {self.b:.2f}.\")\n",
    "\n",
    "#Defining the withdraw method\n",
    "    def withdraw (self, amount: float):\n",
    "        if self.b >= amount:\n",
    "            self.b -= amount\n",
    "            print(f\" Withdrew ${amount:.2f}. New balance is ${self.b:.2f}.\")\n",
    "        else:\n",
    "            print(f\" Insuffient funds, Please deposit additional funds, your current balance is $ {self.b:.2f}.\")\n",
    "\n",
    "#Defining the check balance method\n",
    "    def check_balance(self):\n",
    "        return self.b"
   ]
  },
  {
   "cell_type": "code",
   "execution_count": 79,
   "id": "c547a4ca-3a55-4b5e-a35b-5fc3287ad7aa",
   "metadata": {},
   "outputs": [
    {
     "name": "stdout",
     "output_type": "stream",
     "text": [
      " Deposited $ 1000.00. New balance is $ 11000.00.\n",
      " Withdrew $500.00. New balance is $10500.00.\n",
      " Current balance is $10500.00.\n"
     ]
    }
   ],
   "source": [
    "#Creating an account instance to test the class \"Account\"\n",
    "if __name__ == \"__main__\":\n",
    "    my_account = Account(\"0123456789\", 10000.00, \"Romeo Dandy\")\n",
    "\n",
    "#Depositing money\n",
    "    my_account.deposit(1000.00)\n",
    "\n",
    "#Withdrawing money\n",
    "    my_account.withdraw(500.00)\n",
    "\n",
    "#Checking account balance\n",
    "    print(f\" Current balance is ${my_account.check_balance():.2f}.\")"
   ]
  },
  {
   "cell_type": "code",
   "execution_count": 81,
   "id": "58ac05be-a103-44c3-932a-05dc861781a8",
   "metadata": {},
   "outputs": [
    {
     "name": "stdout",
     "output_type": "stream",
     "text": [
      " Insuffient funds, Please deposit additional funds, your current balance is $ 10500.00.\n"
     ]
    }
   ],
   "source": [
    "#Creating another instance to test the insuffient fund loop\n",
    "my_account.withdraw(10520.00)"
   ]
  },
  {
   "cell_type": "code",
   "execution_count": 83,
   "id": "53c7b0b8-95f4-4a28-a379-9a06b40c1e12",
   "metadata": {},
   "outputs": [
    {
     "name": "stdout",
     "output_type": "stream",
     "text": [
      " Deposited $ 300.00. New balance is $ 2300.00.\n",
      " Insuffient funds, Please deposit additional funds, your current balance is $ 2300.00.\n",
      "Current balance in Marie's account is $2300.00.\n"
     ]
    }
   ],
   "source": [
    "# Testing with another instance\n",
    "\n",
    "my_account2 = Account(\"123456789\", 2000.00, \"Marie Kick\")\n",
    "my_account2.deposit(300.00)\n",
    "my_account2.withdraw(2500.00)  # This should trigger the \"Insufficient funds\" message\n",
    "print(f\"Current balance in Marie's account is ${my_account2.check_balance():.2f}.\")"
   ]
  }
 ],
 "metadata": {
  "kernelspec": {
   "display_name": "Python 3 (ipykernel)",
   "language": "python",
   "name": "python3"
  },
  "language_info": {
   "codemirror_mode": {
    "name": "ipython",
    "version": 3
   },
   "file_extension": ".py",
   "mimetype": "text/x-python",
   "name": "python",
   "nbconvert_exporter": "python",
   "pygments_lexer": "ipython3",
   "version": "3.12.4"
  }
 },
 "nbformat": 4,
 "nbformat_minor": 5
}
