{
 "cells": [
  {
   "cell_type": "code",
   "execution_count": 19,
   "id": "e08528ab-fae5-4a7e-96c8-19cd06eaf2c8",
   "metadata": {},
   "outputs": [
    {
     "ename": "SyntaxError",
     "evalue": "invalid syntax (1694566296.py, line 40)",
     "output_type": "error",
     "traceback": [
      "\u001b[1;36m  Cell \u001b[1;32mIn[19], line 40\u001b[1;36m\u001b[0m\n\u001b[1;33m    print(\"\\nYour final bill is\" $,bill)\u001b[0m\n\u001b[1;37m                                 ^\u001b[0m\n\u001b[1;31mSyntaxError\u001b[0m\u001b[1;31m:\u001b[0m invalid syntax\n"
     ]
    }
   ],
   "source": [
    "#salutation statement to client\n",
    "print(\"Welcome to Python Pizza Deliveries\")\n",
    "\n",
    "#input syntax to collect clients pizza order\n",
    "#where small pizza = $15, medium pizza = $20 and large pizza = $25\n",
    "size=input(\"\\nPlease What Size of pizza do you want?\\nsmall=$15\\nmedium=$20\\nlarge=$25\\n\\n\")\n",
    "\n",
    "bill=0\n",
    "if size.lower()==\"small\":\n",
    "  bill+=15\n",
    "elif size.lower()==\"medium\":\n",
    " bill+=20\n",
    "elif size.lower()==\"large\":\n",
    "  bill+=25\n",
    "else:\n",
    " print(\"\\nPlease Choose your pizza size from the above sizes only\")\n",
    "\n",
    "#input syntax to collect clients pepperoni extras\n",
    "print(\"\\npepperoni available: pepperoni_for_small_pizza=$2\\npepperoni_for_medium_or_large_pizza=$3\\nno_pepperoni=$0\")\n",
    "pepperoni=input(\"\\nPlease what pepperoni do you want?, pepperoni_for_small_pizza, pepperoni_for_medium_or_large_pizza, no_pepperoni \\n\\n\")\n",
    "if pepperoni.lower()==\"pepperoni_for_small_pizza\":\n",
    "  bill+=2\n",
    "elif pepperoni.lower() == \"pepperoni_for_medium_or_large_pizza\":\n",
    "  bill+=3\n",
    "elif pepperoni.lower() == \"no_pepperoni\":\n",
    "  bill+=0\n",
    "else:\n",
    "  print(\"Choose pepperoni from above mentioned list only\\n\")\n",
    "\n",
    "#input syntax to collect clients cheese extras\n",
    "print(\"\\ncheese available: cheese_for_any_size_pizza=$1\\nno_cheese=$0\")\n",
    "cheese=input(\"\\nDo you want cheese?, cheese_for_any_size_pizza, no_cheese \\n\\n\")\n",
    "if cheese.lower()==\"cheese_for_any_size_pizza\":\n",
    "  bill+=1\n",
    "elif cheese.lower()==\"no_cheese\":\n",
    "  bill+=0\n",
    "else:\n",
    "  print(\"Choose cheese from above mentioned list only\\n\")\n",
    "\n",
    "print(\"\\nYour final bill is $\" ,bill)"
   ]
  }
 ],
 "metadata": {
  "kernelspec": {
   "display_name": "Python 3 (ipykernel)",
   "language": "python",
   "name": "python3"
  },
  "language_info": {
   "codemirror_mode": {
    "name": "ipython",
    "version": 3
   },
   "file_extension": ".py",
   "mimetype": "text/x-python",
   "name": "python",
   "nbconvert_exporter": "python",
   "pygments_lexer": "ipython3",
   "version": "3.12.4"
  }
 },
 "nbformat": 4,
 "nbformat_minor": 5
}
