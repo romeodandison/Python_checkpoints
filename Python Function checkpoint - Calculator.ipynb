{
 "cells": [
  {
   "cell_type": "markdown",
   "id": "e65df316-c8af-4f1a-b04e-0b36f65b3297",
   "metadata": {},
   "source": [
    "A calculator program that allows the user to perform mathematical operations on two numbers using basic functions and a dictionary to store the operations. The program should also have the ability to continue calculations with the result of previous calculations.\n",
    " \n",
    "\n",
    "Instructions\n",
    "\n",
    "Create four basic mathematical functions: 'add', 'subtract', 'multiply', and 'divide' that take in two numbers and return the result of the operation.\n",
    "Create a dictionary 'operations' that assigns the functions to their corresponding operation symbols.\n",
    "Create a function 'calculator' that prompts the user to input the first number.\n",
    "Use a for loop to print the available operation symbols.\n",
    "Create a while loop that will continue to run until the user chooses to end the current calculation.\n",
    "Inside the while loop, prompt the user to select an operation symbol.\n",
    "Prompt the user to input the second number.\n",
    "Use the dictionary to retrieve the function that corresponds to the selected operation symbol and store it in a variable 'calculation_function'\n",
    "Perform the calculation by calling the 'calculation_function' on the two input numbers and store the result in a variable 'answer'.\n",
    "Print the equation and the result of the calculation.\n",
    "Ask the user if they would like to continue using the result as the first number for further calculations.\n",
    "If the user chooses to continue, update the 'num1' variable to the value of 'answer'.\n",
    "If the user chooses to start a new calculation, set the 'should_continue' variable to false and call the 'calculator' function to start a new calculation."
   ]
  },
  {
   "cell_type": "code",
   "execution_count": null,
   "id": "9475a734-039b-44bd-bffb-7870f4d7286f",
   "metadata": {},
   "outputs": [
    {
     "name": "stdout",
     "output_type": "stream",
     "text": [
      "Welcome to calculator program\n"
     ]
    }
   ],
   "source": [
    "#Welcome note\n",
    "print(\"Welcome to calculator program\")\n",
    "\n",
    "# Four basic mathematical functions\n",
    "def add(a,b):\n",
    "    return(a+b)\n",
    "    \n",
    "def subtract(a,b):\n",
    "    return(a-b)\n",
    "    \n",
    "def multiply(a,b):\n",
    "    return(a*b)\n",
    "    \n",
    "def divide(a,b):\n",
    "    return(a/b) if b != 0 else \"Error: Division by zero\"\n",
    "\n",
    "# A dictionary 'operations' that assigns the functions to their corresponding operation symbols.\n",
    "operations = {\n",
    "    \"+\": add,\n",
    "    \"-\": subtract,\n",
    "    \"*\": multiply,\n",
    "    \"/\": divide\n",
    "}\n",
    "\n",
    "\n",
    "# A function 'calculator' that prompts the user to input the two numbers\n",
    "def calculator():\n",
    "    num1 = float(input(\"Enter the first number: \"))  # Prompt the user for the first number\n",
    "    \n",
    "    # Print the available operations\n",
    "    for symbol in operations:\n",
    "        print(symbol)\n",
    "    \n",
    "    should_continue = True\n",
    "    \n",
    "    while should_continue:\n",
    "        # Prompt the user to select an operation symbol\n",
    "        operation_symbol = input(\"Please pick an operation from the list above: \")\n",
    "        \n",
    "        # Prompt the user for the second number\n",
    "        num2 = float(input(\"Enter the next number: \"))\n",
    "        \n",
    "        # Retrieve the corresponding function from the dictionary\n",
    "        calculation_function = operations[operation_symbol]\n",
    "        \n",
    "        # Perform the calculation\n",
    "        answer = calculation_function(num1, num2)\n",
    "        \n",
    "        # Print the result of the calculation\n",
    "        print(f\"{num1} {operation_symbol} {num2} = {answer}\")\n",
    "        \n",
    "        # Ask the user if they want to continue with the current result\n",
    "        next_step = input(f\"Type 'y' to continue calculating with {answer}, or 'n' to start a new calculation: \").lower()\n",
    "        \n",
    "        if next_step == 'y':\n",
    "            num1 = answer\n",
    "        else:\n",
    "            should_continue = False\n",
    "            calculator()  # Start a new calculation\n",
    "\n",
    "# Start the calculator program\n",
    "calculator()"
   ]
  },
  {
   "cell_type": "code",
   "execution_count": null,
   "id": "b1504f14-59a1-43df-b912-ad7517e12057",
   "metadata": {},
   "outputs": [],
   "source": []
  }
 ],
 "metadata": {
  "kernelspec": {
   "display_name": "Python 3 (ipykernel)",
   "language": "python",
   "name": "python3"
  },
  "language_info": {
   "codemirror_mode": {
    "name": "ipython",
    "version": 3
   },
   "file_extension": ".py",
   "mimetype": "text/x-python",
   "name": "python",
   "nbconvert_exporter": "python",
   "pygments_lexer": "ipython3",
   "version": "3.12.4"
  }
 },
 "nbformat": 4,
 "nbformat_minor": 5
}
