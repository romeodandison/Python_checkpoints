{
 "cells": [
  {
   "cell_type": "markdown",
   "id": "e76f0053-8776-4908-a9f4-1f19eae027c1",
   "metadata": {},
   "source": [
    "Aim\n",
    "\n",
    "Create a numpy array called \"grades\" that contains the following grades: [85, 90, 88, 92, 95, 80, 75, 98, 89, 83]\n",
    "\n",
    "\n",
    "Instructions\n",
    "\n",
    "Create a new file called \"grades_analysis.py\"\n",
    "Import the numpy library and create the \"grades\" array as specified above.\n",
    "Use numpy functions to calculate the mean, median, and standard deviation of the grades.\n",
    "Use numpy function to find the maximum and minimum of the grades.\n",
    "Use numpy function to sort the grades in ascending order.\n",
    "Use numpy function to find the index of the highest grade in the array.\n",
    "Use numpy function to count the number of students who scored above 90.\n",
    "Use numpy function to calculate the percentage of students who scored above 90.\n",
    "Use numpy function to calculate the percentage of students who scored below 75.\n",
    "Use numpy function to extract all the grades above 90 and put them in a new array called \"high_performers\".\n",
    "Create a new array called \"passing_grades\" that contains all the grades above 75.\n",
    "Print the result of all the above steps."
   ]
  },
  {
   "cell_type": "code",
   "execution_count": 1,
   "id": "b18efb1b-ffcb-4acf-aad0-9ea8e36798c5",
   "metadata": {},
   "outputs": [],
   "source": [
    "#Import numpy \n",
    "\n",
    "import numpy as np\n",
    "\n",
    "grades = np.array([85, 90, 88, 92, 95, 80, 75, 98, 89, 83])"
   ]
  },
  {
   "cell_type": "code",
   "execution_count": 71,
   "id": "0d51287a-7e8f-48c7-b3cc-f3f0b6a80a2f",
   "metadata": {},
   "outputs": [],
   "source": [
    "#Calculate mean, median and standard deviation of the grades\n",
    "\n",
    "#Mean\n",
    "mean = np.mean(grades)\n",
    "\n",
    "#Median\n",
    "median = np.median(grades)\n",
    "\n",
    "#Standard deviation\n",
    "std_dev = round(np.std(grades), 2) #rounds the result to 2 decimal places\n"
   ]
  },
  {
   "cell_type": "code",
   "execution_count": 73,
   "id": "12b8d56b-e459-4f6c-be11-ca6508d427b1",
   "metadata": {},
   "outputs": [],
   "source": [
    "#Calculate maximum of the grades\n",
    "\n",
    "max_grades = np.max(grades)\n",
    "\n",
    "#Calculate minimum of the grades\n",
    "mini_grades = np.min(grades)"
   ]
  },
  {
   "cell_type": "code",
   "execution_count": 75,
   "id": "78a4e4b8-2629-4c0a-8451-02a990c3e027",
   "metadata": {},
   "outputs": [],
   "source": [
    "#Sort grades in ascending order\n",
    "\n",
    "sorted_grades = np.sort(grades)"
   ]
  },
  {
   "cell_type": "code",
   "execution_count": 77,
   "id": "36f8af46-eb76-4143-a066-2f4dcd008a4c",
   "metadata": {},
   "outputs": [],
   "source": [
    "#Find the index of the highest grade in the array\n",
    "\n",
    "index_max = np.argmax(grades)"
   ]
  },
  {
   "cell_type": "code",
   "execution_count": 79,
   "id": "5ca42156-4b7e-4b69-9f24-5080abb7aca5",
   "metadata": {},
   "outputs": [],
   "source": [
    "#Count the number of students who scored above 90\n",
    "\n",
    "abv_90 = np.sum(grades > 90)"
   ]
  },
  {
   "cell_type": "code",
   "execution_count": 81,
   "id": "0876b42a-69a8-4daf-9657-992e5569d16f",
   "metadata": {},
   "outputs": [],
   "source": [
    "#Calculate the percentage of students who scored above 90\n",
    "\n",
    "above_90 = 90 #Assigning the above score to a variable\n",
    "\n",
    "per_90 = (np.sum(grades > above_90) / len(grades)) * 100"
   ]
  },
  {
   "cell_type": "code",
   "execution_count": 83,
   "id": "c7054c30-9280-4b7e-97f6-453429f062a6",
   "metadata": {},
   "outputs": [],
   "source": [
    "#Calculate the percentage of students who scored below 75\n",
    "\n",
    "below_75 = 75 #Assigning the below score to a variable\n",
    "\n",
    "per_75 = (np.sum(grades < below_75) / len(grades)) * 100"
   ]
  },
  {
   "cell_type": "code",
   "execution_count": 85,
   "id": "6c791eef-bf16-47d3-a894-303c5f818610",
   "metadata": {},
   "outputs": [],
   "source": [
    "#Extract all the grades above 90 and put them in a new array called \"high_performers\"\n",
    "\n",
    "high_performers = grades[grades > 90]"
   ]
  },
  {
   "cell_type": "code",
   "execution_count": 87,
   "id": "ec5e3b06-1642-43d2-bcbd-89e2a45129e6",
   "metadata": {},
   "outputs": [],
   "source": [
    "#Create a new array called \"passing_grades\" that contains all the grades above 75\n",
    "\n",
    "passing_grades = grades[grades > 75]\n",
    "passing_grades1 = np.sort(passing_grades) # Sorts passing grades in ascending order"
   ]
  },
  {
   "cell_type": "code",
   "execution_count": 91,
   "id": "83b42221-8882-413e-b0a2-4d3b38ba83cb",
   "metadata": {},
   "outputs": [
    {
     "name": "stdout",
     "output_type": "stream",
     "text": [
      "grades: [85 90 88 92 95 80 75 98 89 83]\n",
      " \n",
      "mean 87.5, \n",
      "median 88.5, \n",
      "std_dev 6.59\n",
      " \n",
      "max grades 98, \n",
      "min grades 75\n",
      "Sorted grades in ascending order: [75 80 83 85 88 89 90 92 95 98]\n",
      "Index of the highest grade: 7\n",
      "Total number of students who scored above 90: 3\n",
      "Percentage of students who scored above 90: 30.0\n",
      "Percentage of students who scored below 75: 0.0\n",
      "Array of Grades above 90: [92 95 98]\n",
      "Array of grade above 75: [80 83 85 88 89 90 92 95 98]\n"
     ]
    }
   ],
   "source": [
    "# Print Results\n",
    "\n",
    "print(\"grades:\", grades) # Working Grade array\n",
    "print(f' \\nmean {mean}, \\nmedian {median}, \\nstd_dev {std_dev}') # Returns the result for mean, median and standard deviation\n",
    "print(f' \\nmax grades {max_grades}, \\nmin grades {mini_grades}') # Returns the result for maximum and minimum gradeprint(f' sorted sales in ascending order {sorted_sales}')\n",
    "print(\"Sorted grades in ascending order:\", sorted_grades) # Returns sorted grades in ascending order\n",
    "print(\"Index of the highest grade:\", index_max) #Returns Index of highest grades\n",
    "print(\"Total number of students who scored above 90:\", abv_90) # Returns total number of students who scored above 90\n",
    "print(\"Percentage of students who scored above 90:\", per_90) # Returns the percentage of students who scored above 90\n",
    "print(\"Percentage of students who scored below 75:\", per_75) # Returns the percentage of students who scored below 75\n",
    "print(\"Array of Grades above 90:\", high_performers) # Returns the Extracts of all the grades above 90 and put them in a new array called \"high_performers\"\n",
    "print(\"Array of grade above 75:\", passing_grades1) # Returns a new array called \"passing_grades\" that contains all the grades above 75"
   ]
  }
 ],
 "metadata": {
  "kernelspec": {
   "display_name": "Python 3 (ipykernel)",
   "language": "python",
   "name": "python3"
  },
  "language_info": {
   "codemirror_mode": {
    "name": "ipython",
    "version": 3
   },
   "file_extension": ".py",
   "mimetype": "text/x-python",
   "name": "python",
   "nbconvert_exporter": "python",
   "pygments_lexer": "ipython3",
   "version": "3.12.4"
  }
 },
 "nbformat": 4,
 "nbformat_minor": 5
}
