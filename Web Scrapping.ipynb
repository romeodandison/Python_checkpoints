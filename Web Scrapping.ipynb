{
 "cells": [
  {
   "cell_type": "code",
   "execution_count": null,
   "id": "82234a6f-0444-4e6e-b9f0-bb960e9df5b5",
   "metadata": {},
   "outputs": [],
   "source": [
    "#A webscrapping practise checkpoint"
   ]
  },
  {
   "cell_type": "code",
   "execution_count": 7,
   "id": "75b12cd5-ba2e-44c1-a8f5-3e52a729975e",
   "metadata": {},
   "outputs": [],
   "source": [
    "#import necesary libraries\n",
    "\n",
    "import requests as re\n",
    "import string\n",
    "from bs4 import BeautifulSoup"
   ]
  },
  {
   "cell_type": "code",
   "execution_count": 9,
   "id": "2810ad68-62cb-4fbf-b30f-63ad7c84a295",
   "metadata": {},
   "outputs": [
    {
     "name": "stdin",
     "output_type": "stream",
     "text": [
      "Search:  Covid-19\n"
     ]
    }
   ],
   "source": [
    "#create variables\n",
    "\n",
    "enter_input = input(\"Search: \")\n",
    "u_i = string.capwords(enter_input)\n",
    "lists = u_i.split()\n",
    "word = \"_\".join(lists)\n",
    "\n",
    "url = \"https://en.wikipedia.org/wiki/\"+word"
   ]
  },
  {
   "cell_type": "code",
   "execution_count": 11,
   "id": "d5a9e325-c352-4cd4-b1aa-65b46b6ff6fd",
   "metadata": {},
   "outputs": [
    {
     "name": "stdout",
     "output_type": "stream",
     "text": [
      " Other names :: COVID, (the) coronavirus\n",
      "-----------------\n",
      " Pronunciation :: /kəˈroʊnəvaɪrəs//ˌkoʊvɪdnaɪnˈtiːn, ˌkɒvɪd-/[1] \n",
      "-----------------\n",
      " Specialty :: Infectious disease\n",
      "-----------------\n",
      " Symptoms :: Fever, cough, fatigue, shortness of breath, vomiting, loss of taste or smell; some cases asymptomatic[2][3]\n",
      "-----------------\n",
      " Complications :: Pneumonia, sepsis, ARDS, kidney failure, respiratory failure, pulmonary fibrosis, CKS, MIS-C, long COVID\n",
      "-----------------\n",
      " Usual onset :: 2–14 days (typically 5)after infection\n",
      "-----------------\n",
      " Duration :: 5 days to chronic\n",
      "-----------------\n",
      " Causes :: SARS-CoV-2\n",
      "-----------------\n",
      " Diagnostic method :: RT‑PCR testing, CT scan, rapid antigen test\n",
      "-----------------\n",
      " Prevention :: Vaccination, face coverings, quarantine, social distancing, ventilation, hand washing\n",
      "-----------------\n",
      " Treatment :: Symptomatic and supportive\n",
      "-----------------\n",
      " Frequency :: 776,280,466[4] confirmed cases (true case count is expected to be much higher[5])\n",
      "-----------------\n",
      " Deaths :: 7,065,867[4] (reported)18.2–33.5 million[6] (estimated)\n",
      "-----------------\n",
      "Coronavirus disease 2019 (COVID-19) is a contagious disease caused by the coronavirus SARS-CoV-2. The first known case was identified in Wuhan, China, in December 2019.[7] Most scientists believe the SARS-CoV-2 virus entered into human populations through natural zoonosis, similar to the SARS-CoV-1 and MERS-CoV outbreaks, and consistent with other pandemics in human history.[8][9] Social and environmental factors including climate change, natural ecosystem destruction and wildlife trade increased the likelihood of such zoonotic spillover.[10][11][12][13] The disease quickly spread worldwide, resulting in the COVID-19 pandemic.\n",
      "\n",
      "The symptoms of COVID‑19 are variable but often include fever,[14] fatigue, cough, breathing difficulties, loss of smell, and loss of taste.[15][16][17] Symptoms may begin one to fourteen days after exposure to the virus. At least a third of people who are infected do not develop noticeable symptoms.[18][19] Of those who develop symptoms noticeable enough to be classified as patients, most (81%) develop mild to moderate symptoms (up to mild pneumonia), while 14% develop severe symptoms (dyspnea, hypoxia, or more than 50% lung involvement on imaging), and 5% develop critical symptoms (respiratory failure, shock, or multiorgan dysfunction).[20] Older people are at a higher risk of developing severe symptoms. Some complications result in death. Some people continue to experience a range of effects (long COVID) for months or years after infection, and damage to organs has been observed.[21] Multi-year studies are underway to further investigate the long-term effects of the disease.[22]\n",
      "\n"
     ]
    }
   ],
   "source": [
    "#create functions\n",
    "def wikibot(url):\n",
    "    url_open = re.get(url)\n",
    "    soup = BeautifulSoup(url_open.content, 'html.parser')\n",
    "    details = soup('table', {'class' : 'infobox'})\n",
    "    for i in details:\n",
    "        h = i.find_all('tr')\n",
    "        for j in h:\n",
    "            heading = j.find_all('th')\n",
    "            detail = j.find_all('td')\n",
    "            if heading is not None and detail is not None:\n",
    "                for x,y in zip(heading, detail):\n",
    "                    print(' {} :: {}'.format(x.text,y.text))\n",
    "                    print(\"-----------------\")\n",
    "    for i in range (1,3):\n",
    "        print(soup('p')[i].text)\n",
    "wikibot(url)\n"
   ]
  }
 ],
 "metadata": {
  "kernelspec": {
   "display_name": "Python 3 (ipykernel)",
   "language": "python",
   "name": "python3"
  },
  "language_info": {
   "codemirror_mode": {
    "name": "ipython",
    "version": 3
   },
   "file_extension": ".py",
   "mimetype": "text/x-python",
   "name": "python",
   "nbconvert_exporter": "python",
   "pygments_lexer": "ipython3",
   "version": "3.12.4"
  }
 },
 "nbformat": 4,
 "nbformat_minor": 5
}
