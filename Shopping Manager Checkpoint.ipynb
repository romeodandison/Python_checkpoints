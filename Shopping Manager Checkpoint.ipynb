{
 "cells": [
  {
   "cell_type": "markdown",
   "id": "6768cdb8-b9da-4749-bba7-14f2dad80e98",
   "metadata": {},
   "source": [
    "A program that allows the user to manage their shopping list. The user should be able to add items to the list, remove items, and view the current list of items.\r\n",
    "\r\n",
    "\r\n",
    "Instructions\r\n",
    "\r\n",
    "Statement:\r\n",
    "\r\n",
    "Create a list to store the shopping items\r\n",
    "Use a while loop to create a menu of options for the user to add, remove, or view items from the list\r\n",
    "Use a for loop to iterate through the list of items and display them to the user\r\n",
    "Use the range() function to limit the number of items that can be added to the list\r\n",
    "Use the list, tuple, set, and dictionary data structures to store and manipulate the shopping items\r\n",
    "Instructions:\r\n",
    "\r\n",
    "Create a list named 'shopping_list' to store the items.\r\n",
    "Use a while loop to create a menu of options for the user to add, remove, or view items from the list.\r\n",
    "Use the input() function to prompt the user to make a selection from the menu.\r\n",
    "Use an if-elif-else block to determine the user's selection and perform the corresponding action.\r\n",
    "If the user selects 'add', use the input() function to prompt the user to enter an item to add to the list. Use the range() function to limit the number of items that can be added to the list.\r\n",
    "If the user selects 'remove', use the input() function to prompt the user to enter an item to remove from the list.\r\n",
    "If the user selects 'view', use a for loop to iterate through the list of items and display them to the user.\r\n",
    "Use the list, tuple, set, and dictionary data structures to store and manipulate the shopping items."
   ]
  },
  {
   "cell_type": "code",
   "execution_count": null,
   "id": "d0b525ea-a7c2-41e1-a8f2-d68aa6821a11",
   "metadata": {},
   "outputs": [
    {
     "name": "stdout",
     "output_type": "stream",
     "text": [
      "Welcome to Shopping Manager, please choose from the below:\n",
      "1. Add an item\n",
      "2. Remove an item\n",
      "3. View items in the shopping List\n",
      "4. Quit\n"
     ]
    },
    {
     "name": "stdin",
     "output_type": "stream",
     "text": [
      "Please, Choose an option (1-4):  5\n"
     ]
    },
    {
     "name": "stdout",
     "output_type": "stream",
     "text": [
      "Invalid choice. Please choose a valid option.\n",
      "Welcome to Shopping Manager, please choose from the below:\n",
      "1. Add an item\n",
      "2. Remove an item\n",
      "3. View items in the shopping List\n",
      "4. Quit\n"
     ]
    }
   ],
   "source": [
    "#Create an empty list\n",
    "\n",
    "shopping_list = []\n",
    "\n",
    "while True:\n",
    "    # Display the menu\n",
    "    print(\"Welcome to Shopping Manager, please choose from the below:\")\n",
    "    print(\"1. Add an item\")\n",
    "    print(\"2. Remove an item\")\n",
    "    print(\"3. View items in the shopping List\")\n",
    "    print(\"4. Quit\")\n",
    "\n",
    " # Get user choice\n",
    "    choice = input(\"Please, Choose an option (1-4): \")\n",
    "    \n",
    "    if choice == '1':\n",
    "        # Add an item to the shopping list    \n",
    "        item = input(\"Enter the item: \")\n",
    "        if len(shopping_list) < 6: # Limits the number of items that can be added\n",
    "            shopping_list.append((item))  # Add the item as a list (a data type in Python)\n",
    "            print(f\"item '{item}' has been added to your shopping list.\")\n",
    "        else:\n",
    "            print(\"The list is full\")\n",
    "            \n",
    "    elif choice == '2':\n",
    "        # Removes items from the list\n",
    "        item = input(\"Enter the task you want to remove: \")\n",
    "        shopping_list.remove((item))  # Remove the item from the shopping list\n",
    "        print(f\"Item '{item}' as been added to your shopping list.\")\n",
    "           \n",
    "    elif choice == '3':\n",
    "        # Display the items in the shopping list\n",
    "        if shopping_list:\n",
    "            print(\"shopping_list:\")\n",
    "            for i, (item) in enumerate(shopping_list, 1):  # Enumerate through the shopping list\n",
    "                print(f\"{i}. {item}\")\n",
    "        else:\n",
    "            print(\"The list is empty.\")\n",
    "    \n",
    "    elif choice == '4':\n",
    "        # Quit the program\n",
    "        print(\"Sad to see you go, please to stop by next time to check out our new products!\")\n",
    "        break\n",
    "    \n",
    "    else:\n",
    "        # Handle invalid input\n",
    "        print(\"Invalid choice. Please choose a valid option.\")\n"
   ]
  }
 ],
 "metadata": {
  "kernelspec": {
   "display_name": "Python 3 (ipykernel)",
   "language": "python",
   "name": "python3"
  },
  "language_info": {
   "codemirror_mode": {
    "name": "ipython",
    "version": 3
   },
   "file_extension": ".py",
   "mimetype": "text/x-python",
   "name": "python",
   "nbconvert_exporter": "python",
   "pygments_lexer": "ipython3",
   "version": "3.12.4"
  }
 },
 "nbformat": 4,
 "nbformat_minor": 5
}
